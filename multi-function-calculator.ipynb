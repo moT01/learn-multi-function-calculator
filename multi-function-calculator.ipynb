{
  "nbformat": 4,
  "nbformat_minor": 0,
  "metadata": {
    "colab": {
      "name": "Foundational Math 1 (Project).ipynb",
      "provenance": [],
      "collapsed_sections": []
    },
    "kernelspec": {
      "name": "python3",
      "display_name": "Python 3"
    },
    "language_info": {
      "name": "python"
    }
  },
  "cells": [
    {
      "cell_type": "markdown",
      "metadata": {
        "id": "hNrup68OK4h2"
      },
      "source": [
        "**Foundational Math - Certification Project 1**<br>\n",
        "Build upon what you did in previous steps to create a mulli-function calculator that does the following:<br>\n",
        "<ul>\n",
        "<li>Take input from a user</li>\n",
        "  <li>Add, subtract, multiply, divide</li>\n",
        "  <li>Convert fractions, decimals, percents</li>\n",
        "  <li>Detect prime numbers</li>\n",
        "  <li>Generate prime factors of a number</li>\n",
        "  <li>Simplify square roots</li>\n",
        "  <li>Interpret algebraic expressions in Python</li>\n",
        "  <li>Solve for a variable</li>\n",
        "</ul>"
      ]
    },
    {
      "cell_type": "code",
      "metadata": {
        "id": "lq2NEOQ3K3Gq"
      },
      "source": [
        "# Write your code here\n"
      ],
      "execution_count": null,
      "outputs": []
    }
  ]
}
